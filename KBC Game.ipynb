{
 "cells": [
  {
   "cell_type": "code",
   "execution_count": 1,
   "id": "016011db",
   "metadata": {},
   "outputs": [
    {
     "name": "stdout",
     "output_type": "stream",
     "text": [
      "Taj Mahal was made of?\n",
      "1. Brick\n",
      "2. Marble\n",
      "3. Granite\n",
      "4. Sandstone\n",
      "Enter your answer (option number): 2\n",
      "Correct answer! \n",
      "\n",
      "Who wrote India's National Anthem?\n",
      "1. Rabindranath Tagore\n",
      "2. Lal Bahadur Shastri\n",
      "3. Chetan Bhagat\n",
      "4. RK Narayan\n",
      "Enter your answer (option number): 2\n",
      "Wrong answer!\n",
      "\n",
      "Which city is known as Pink City in India?\n",
      "1. Banglore\n",
      "2. Maysore\n",
      "3. Jaipur\n",
      "4. Kochi\n",
      "Enter your answer (option number): 3\n",
      "Correct answer! \n",
      "\n",
      "Where is India Gate located?\n",
      "1. Agra\n",
      "2. Punjab\n",
      "3. Mumbai\n",
      "4. New Delhi\n",
      "Enter your answer (option number): 4\n",
      "Correct answer! \n",
      "\n",
      "How many states are there in India?\n",
      "A. 28\n",
      "B. 29\n",
      "C. 30\n",
      "D. 31\n",
      "Enter your answer (option number): a\n"
     ]
    },
    {
     "ename": "ValueError",
     "evalue": "invalid literal for int() with base 10: 'a'",
     "output_type": "error",
     "traceback": [
      "\u001b[1;31m---------------------------------------------------------------------------\u001b[0m",
      "\u001b[1;31mValueError\u001b[0m                                Traceback (most recent call last)",
      "Cell \u001b[1;32mIn[1], line 40\u001b[0m\n\u001b[0;32m     37\u001b[0m \u001b[38;5;28;01mfor\u001b[39;00m option \u001b[38;5;129;01min\u001b[39;00m question[\u001b[38;5;124m\"\u001b[39m\u001b[38;5;124moptions\u001b[39m\u001b[38;5;124m\"\u001b[39m]:\n\u001b[0;32m     38\u001b[0m     \u001b[38;5;28mprint\u001b[39m(option)\n\u001b[1;32m---> 40\u001b[0m user_answer \u001b[38;5;241m=\u001b[39m \u001b[38;5;28mint\u001b[39m(\u001b[38;5;28minput\u001b[39m(\u001b[38;5;124m\"\u001b[39m\u001b[38;5;124mEnter your answer (option number): \u001b[39m\u001b[38;5;124m\"\u001b[39m))\n\u001b[0;32m     42\u001b[0m \u001b[38;5;28;01mif\u001b[39;00m user_answer \u001b[38;5;241m==\u001b[39m question[\u001b[38;5;124m\"\u001b[39m\u001b[38;5;124manswer\u001b[39m\u001b[38;5;124m\"\u001b[39m]:\n\u001b[0;32m     43\u001b[0m     \u001b[38;5;28mprint\u001b[39m(\u001b[38;5;124m\"\u001b[39m\u001b[38;5;124mCorrect answer! \u001b[39m\u001b[38;5;130;01m\\n\u001b[39;00m\u001b[38;5;124m\"\u001b[39m)\n",
      "\u001b[1;31mValueError\u001b[0m: invalid literal for int() with base 10: 'a'"
     ]
    }
   ],
   "source": [
    "import random\n",
    "\n",
    "prize_money = 0\n",
    "\n",
    "questions = [\n",
    "    {  \n",
    "        \"question\": \"Which city is known as Pink City in India?\",\n",
    "        \"options\": [\"1. Banglore\", \"2. Maysore\", \"3. Jaipur\", \"4. Kochi\"],\n",
    "        \"answer\": 3 \n",
    "    },\n",
    "    {\n",
    "        \"question\": \"Who wrote India's National Anthem?\",\n",
    "        \"options\": [\"1. Rabindranath Tagore\", \"2. Lal Bahadur Shastri\", \"3. Chetan Bhagat\", \"4. RK Narayan\"],\n",
    "        \"answer\": 1\n",
    "    },\n",
    "    {\n",
    "        \"question\": \"Taj Mahal was made of?\",\n",
    "        \"options\": [\"1. Brick\", \"2. Marble\", \"3. Granite\", \"4. Sandstone\"],\n",
    "        \"answer\": 2\n",
    "    },\n",
    "    {\n",
    "        \"question\": \"Where is India Gate located?\",\n",
    "        \"options\": [\"1. Agra\", \"2. Punjab\", \"3. Mumbai\", \"4. New Delhi\"],\n",
    "        \"answer\": 4\n",
    "    },\n",
    "    {\n",
    "        \"question\": \"How many states are there in India?\",\n",
    "        \"options\": [\"A. 28\", \"B. 29\", \"C. 30\", \"D. 31\"],\n",
    "        \"answer\": 1\n",
    "    }\n",
    "]\n",
    "\n",
    "random.shuffle(questions)\n",
    "\n",
    "for question in questions:\n",
    "    print(question[\"question\"])\n",
    "    for option in question[\"options\"]:\n",
    "        print(option)\n",
    "    \n",
    "    user_answer = int(input(\"Enter your answer (option number): \"))\n",
    "    \n",
    "    if user_answer == question[\"answer\"]:\n",
    "        print(\"Correct answer! \\n\")\n",
    "        prize_money += 10000\n",
    "    else:\n",
    "        print(\"Wrong answer!\\n\")\n",
    "\n",
    "print(\"Prize Money:\", prize_money)\n"
   ]
  }
 ],
 "metadata": {
  "kernelspec": {
   "display_name": "Python 3 (ipykernel)",
   "language": "python",
   "name": "python3"
  },
  "language_info": {
   "codemirror_mode": {
    "name": "ipython",
    "version": 3
   },
   "file_extension": ".py",
   "mimetype": "text/x-python",
   "name": "python",
   "nbconvert_exporter": "python",
   "pygments_lexer": "ipython3",
   "version": "3.11.5"
  }
 },
 "nbformat": 4,
 "nbformat_minor": 5
}
